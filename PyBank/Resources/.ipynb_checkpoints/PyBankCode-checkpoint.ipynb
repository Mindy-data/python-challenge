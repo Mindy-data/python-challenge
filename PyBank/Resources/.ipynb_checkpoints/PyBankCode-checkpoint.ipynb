{
 "cells": [
  {
   "cell_type": "code",
   "execution_count": 17,
   "id": "938b1f05-7a68-4e1a-855e-7dc94e0268c7",
   "metadata": {},
   "outputs": [
    {
     "name": "stdout",
     "output_type": "stream",
     "text": [
      "Financial Analysis\n",
      "-----------------------------------------------------\n",
      "Total Months: 86\n",
      "Total: $22564198\n"
     ]
    }
   ],
   "source": [
    "import os\n",
    "\n",
    "import csv\n",
    "\n",
    "csvpath = os.path.join(\"budget_data.csv\")\n",
    "\n",
    "#Create Financial Analysis Title\n",
    "title = \"Financial Analysis\"\n",
    "print(title)\n",
    "\n",
    "#Create line\n",
    "print(\"-----------------------------------------------------\")\n",
    "\n",
    "#Read the CSV file\n",
    "with open(csvpath) as csvfile:\n",
    "\n",
    "    # CSV reader specifies delimiter and variable that holds contents\n",
    "    csvreader = csv.reader(csvfile, delimiter=',')\n",
    "    #print(csvreader)\n",
    "\n",
    "    # Read the header row first (skip this step if there is no header)\n",
    "    csv_header = next(csvreader)\n",
    "    #print(f\"CSV Header: {csv_header}\")\n",
    "\n",
    "    total_months = 0\n",
    "    total_prof_loss = 0\n",
    "    total_profits = 0\n",
    "    total_losses = 0\n",
    "    \n",
    "    # Read each row of data after the header\n",
    "    for row in csvreader:\n",
    "        \n",
    "        total_months = total_months + 1\n",
    "        #print(row)\n",
    "        \n",
    "        #The net total profits/losses over entire period\n",
    "        total_prof_loss = total_prof_loss + int(row[1])\n",
    "        \n",
    "\n",
    "        #Changes in profits/losses over entire period and then the average of those changes\n",
    "        total_profits = sum(int(row[1]>0)\n",
    "        total_losses = sum(int(row[1]<0)\n",
    "        \n",
    "        average_change = total_profits - total_losses / total_months\n",
    "        \n",
    "    \n",
    "\n",
    "        #Greatest increase in profits over the entire period\n",
    "        \n",
    "\n",
    "        #Greatest decrease in profits over the entire period\n",
    "    \n",
    "    \n",
    "    \n",
    "    \n",
    "    \n",
    "    \n",
    "    print(f\"Total Months: {total_months}\")\n",
    "    print(f\"Total: ${total_prof_loss}\")\n",
    "\n"
   ]
  },
  {
   "cell_type": "code",
   "execution_count": null,
   "id": "b7067d19-a00e-4607-b941-15b4e4c2bea2",
   "metadata": {},
   "outputs": [],
   "source": []
  }
 ],
 "metadata": {
  "kernelspec": {
   "display_name": "Python 3 (ipykernel)",
   "language": "python",
   "name": "python3"
  },
  "language_info": {
   "codemirror_mode": {
    "name": "ipython",
    "version": 3
   },
   "file_extension": ".py",
   "mimetype": "text/x-python",
   "name": "python",
   "nbconvert_exporter": "python",
   "pygments_lexer": "ipython3",
   "version": "3.11.5"
  }
 },
 "nbformat": 4,
 "nbformat_minor": 5
}
